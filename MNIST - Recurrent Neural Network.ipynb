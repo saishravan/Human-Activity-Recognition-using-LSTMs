{
 "cells": [
  {
   "cell_type": "markdown",
   "metadata": {},
   "source": [
    "Importing all the required libraries"
   ]
  },
  {
   "cell_type": "code",
   "execution_count": 1,
   "metadata": {},
   "outputs": [
    {
     "name": "stderr",
     "output_type": "stream",
     "text": [
      "/home/sravan/.local/lib/python3.6/site-packages/tensorflow/python/framework/dtypes.py:516: FutureWarning: Passing (type, 1) or '1type' as a synonym of type is deprecated; in a future version of numpy, it will be understood as (type, (1,)) / '(1,)type'.\n",
      "  _np_qint8 = np.dtype([(\"qint8\", np.int8, 1)])\n",
      "/home/sravan/.local/lib/python3.6/site-packages/tensorflow/python/framework/dtypes.py:517: FutureWarning: Passing (type, 1) or '1type' as a synonym of type is deprecated; in a future version of numpy, it will be understood as (type, (1,)) / '(1,)type'.\n",
      "  _np_quint8 = np.dtype([(\"quint8\", np.uint8, 1)])\n",
      "/home/sravan/.local/lib/python3.6/site-packages/tensorflow/python/framework/dtypes.py:518: FutureWarning: Passing (type, 1) or '1type' as a synonym of type is deprecated; in a future version of numpy, it will be understood as (type, (1,)) / '(1,)type'.\n",
      "  _np_qint16 = np.dtype([(\"qint16\", np.int16, 1)])\n",
      "/home/sravan/.local/lib/python3.6/site-packages/tensorflow/python/framework/dtypes.py:519: FutureWarning: Passing (type, 1) or '1type' as a synonym of type is deprecated; in a future version of numpy, it will be understood as (type, (1,)) / '(1,)type'.\n",
      "  _np_quint16 = np.dtype([(\"quint16\", np.uint16, 1)])\n",
      "/home/sravan/.local/lib/python3.6/site-packages/tensorflow/python/framework/dtypes.py:520: FutureWarning: Passing (type, 1) or '1type' as a synonym of type is deprecated; in a future version of numpy, it will be understood as (type, (1,)) / '(1,)type'.\n",
      "  _np_qint32 = np.dtype([(\"qint32\", np.int32, 1)])\n",
      "/home/sravan/.local/lib/python3.6/site-packages/tensorflow/python/framework/dtypes.py:525: FutureWarning: Passing (type, 1) or '1type' as a synonym of type is deprecated; in a future version of numpy, it will be understood as (type, (1,)) / '(1,)type'.\n",
      "  np_resource = np.dtype([(\"resource\", np.ubyte, 1)])\n",
      "/home/sravan/.local/lib/python3.6/site-packages/tensorboard/compat/tensorflow_stub/dtypes.py:541: FutureWarning: Passing (type, 1) or '1type' as a synonym of type is deprecated; in a future version of numpy, it will be understood as (type, (1,)) / '(1,)type'.\n",
      "  _np_qint8 = np.dtype([(\"qint8\", np.int8, 1)])\n",
      "/home/sravan/.local/lib/python3.6/site-packages/tensorboard/compat/tensorflow_stub/dtypes.py:542: FutureWarning: Passing (type, 1) or '1type' as a synonym of type is deprecated; in a future version of numpy, it will be understood as (type, (1,)) / '(1,)type'.\n",
      "  _np_quint8 = np.dtype([(\"quint8\", np.uint8, 1)])\n",
      "/home/sravan/.local/lib/python3.6/site-packages/tensorboard/compat/tensorflow_stub/dtypes.py:543: FutureWarning: Passing (type, 1) or '1type' as a synonym of type is deprecated; in a future version of numpy, it will be understood as (type, (1,)) / '(1,)type'.\n",
      "  _np_qint16 = np.dtype([(\"qint16\", np.int16, 1)])\n",
      "/home/sravan/.local/lib/python3.6/site-packages/tensorboard/compat/tensorflow_stub/dtypes.py:544: FutureWarning: Passing (type, 1) or '1type' as a synonym of type is deprecated; in a future version of numpy, it will be understood as (type, (1,)) / '(1,)type'.\n",
      "  _np_quint16 = np.dtype([(\"quint16\", np.uint16, 1)])\n",
      "/home/sravan/.local/lib/python3.6/site-packages/tensorboard/compat/tensorflow_stub/dtypes.py:545: FutureWarning: Passing (type, 1) or '1type' as a synonym of type is deprecated; in a future version of numpy, it will be understood as (type, (1,)) / '(1,)type'.\n",
      "  _np_qint32 = np.dtype([(\"qint32\", np.int32, 1)])\n",
      "/home/sravan/.local/lib/python3.6/site-packages/tensorboard/compat/tensorflow_stub/dtypes.py:550: FutureWarning: Passing (type, 1) or '1type' as a synonym of type is deprecated; in a future version of numpy, it will be understood as (type, (1,)) / '(1,)type'.\n",
      "  np_resource = np.dtype([(\"resource\", np.ubyte, 1)])\n"
     ]
    }
   ],
   "source": [
    "import tensorflow as tf\n",
    "from tensorflow.contrib.layers import fully_connected\n",
    "n_steps = 28\n",
    "n_inputs = 28\n",
    "n_neurons = 150\n",
    "n_outputs = 10\n",
    "learning_rate = 0.001"
   ]
  },
  {
   "cell_type": "markdown",
   "metadata": {},
   "source": [
    "Building the graph"
   ]
  },
  {
   "cell_type": "code",
   "execution_count": 2,
   "metadata": {},
   "outputs": [
    {
     "name": "stdout",
     "output_type": "stream",
     "text": [
      "WARNING:tensorflow:From <ipython-input-2-d14ed7ba765c>:3: BasicRNNCell.__init__ (from tensorflow.python.ops.rnn_cell_impl) is deprecated and will be removed in a future version.\n",
      "Instructions for updating:\n",
      "This class is equivalent as tf.keras.layers.SimpleRNNCell, and will be replaced by that in Tensorflow 2.0.\n",
      "WARNING:tensorflow:From <ipython-input-2-d14ed7ba765c>:4: dynamic_rnn (from tensorflow.python.ops.rnn) is deprecated and will be removed in a future version.\n",
      "Instructions for updating:\n",
      "Please use `keras.layers.RNN(cell)`, which is equivalent to this API\n",
      "WARNING:tensorflow:From /home/sravan/.local/lib/python3.6/site-packages/tensorflow/python/ops/init_ops.py:1251: calling VarianceScaling.__init__ (from tensorflow.python.ops.init_ops) with dtype is deprecated and will be removed in a future version.\n",
      "Instructions for updating:\n",
      "Call initializer instance with the dtype argument instead of passing it to the constructor\n",
      "WARNING:tensorflow:From /home/sravan/.local/lib/python3.6/site-packages/tensorflow/python/ops/rnn_cell_impl.py:459: calling Zeros.__init__ (from tensorflow.python.ops.init_ops) with dtype is deprecated and will be removed in a future version.\n",
      "Instructions for updating:\n",
      "Call initializer instance with the dtype argument instead of passing it to the constructor\n",
      "WARNING:tensorflow:Entity <bound method BasicRNNCell.call of <tensorflow.python.ops.rnn_cell_impl.BasicRNNCell object at 0x7f6cc70ce6a0>> could not be transformed and will be executed as-is. Please report this to the AutgoGraph team. When filing the bug, set the verbosity to 10 (on Linux, `export AUTOGRAPH_VERBOSITY=10`) and attach the full output. Cause: converting <bound method BasicRNNCell.call of <tensorflow.python.ops.rnn_cell_impl.BasicRNNCell object at 0x7f6cc70ce6a0>>: AssertionError: Bad argument number for Name: 3, expecting 4\n",
      "WARNING: Entity <bound method BasicRNNCell.call of <tensorflow.python.ops.rnn_cell_impl.BasicRNNCell object at 0x7f6cc70ce6a0>> could not be transformed and will be executed as-is. Please report this to the AutgoGraph team. When filing the bug, set the verbosity to 10 (on Linux, `export AUTOGRAPH_VERBOSITY=10`) and attach the full output. Cause: converting <bound method BasicRNNCell.call of <tensorflow.python.ops.rnn_cell_impl.BasicRNNCell object at 0x7f6cc70ce6a0>>: AssertionError: Bad argument number for Name: 3, expecting 4\n",
      "WARNING:tensorflow:Entity <bound method Dense.call of <tensorflow.python.layers.core.Dense object at 0x7f6cc70ce908>> could not be transformed and will be executed as-is. Please report this to the AutgoGraph team. When filing the bug, set the verbosity to 10 (on Linux, `export AUTOGRAPH_VERBOSITY=10`) and attach the full output. Cause: converting <bound method Dense.call of <tensorflow.python.layers.core.Dense object at 0x7f6cc70ce908>>: AttributeError: module 'gast' has no attribute 'Index'\n",
      "WARNING: Entity <bound method Dense.call of <tensorflow.python.layers.core.Dense object at 0x7f6cc70ce908>> could not be transformed and will be executed as-is. Please report this to the AutgoGraph team. When filing the bug, set the verbosity to 10 (on Linux, `export AUTOGRAPH_VERBOSITY=10`) and attach the full output. Cause: converting <bound method Dense.call of <tensorflow.python.layers.core.Dense object at 0x7f6cc70ce908>>: AttributeError: module 'gast' has no attribute 'Index'\n"
     ]
    }
   ],
   "source": [
    "X = tf.placeholder(tf.float32, [None, n_steps, n_inputs])\n",
    "y = tf.placeholder(tf.int32, [None])\n",
    "basic_cell = tf.contrib.rnn.BasicRNNCell(num_units=n_neurons)\n",
    "outputs, states = tf.nn.dynamic_rnn(basic_cell, X, dtype=tf.float32)\n",
    "logits = fully_connected(states, n_outputs, activation_fn=None)\n",
    "xentropy = tf.nn.sparse_softmax_cross_entropy_with_logits(\n",
    "labels=y, logits=logits)\n",
    "loss = tf.reduce_mean(xentropy)\n",
    "optimizer = tf.train.AdamOptimizer(learning_rate=learning_rate)\n",
    "training_op = optimizer.minimize(loss)\n",
    "correct = tf.nn.in_top_k(logits, y, 1)\n",
    "accuracy = tf.reduce_mean(tf.cast(correct, tf.float32))\n",
    "init = tf.global_variables_initializer()"
   ]
  },
  {
   "cell_type": "markdown",
   "metadata": {},
   "source": [
    "Importing the MNIST data for feeding into the RNN"
   ]
  },
  {
   "cell_type": "code",
   "execution_count": 3,
   "metadata": {},
   "outputs": [
    {
     "name": "stdout",
     "output_type": "stream",
     "text": [
      "WARNING:tensorflow:From <ipython-input-3-9aff0e2313ad>:2: read_data_sets (from tensorflow.contrib.learn.python.learn.datasets.mnist) is deprecated and will be removed in a future version.\n",
      "Instructions for updating:\n",
      "Please use alternatives such as official/mnist/dataset.py from tensorflow/models.\n",
      "WARNING:tensorflow:From /home/sravan/.local/lib/python3.6/site-packages/tensorflow/contrib/learn/python/learn/datasets/mnist.py:260: maybe_download (from tensorflow.contrib.learn.python.learn.datasets.base) is deprecated and will be removed in a future version.\n",
      "Instructions for updating:\n",
      "Please write your own downloading logic.\n",
      "WARNING:tensorflow:From /home/sravan/.local/lib/python3.6/site-packages/tensorflow/contrib/learn/python/learn/datasets/base.py:252: _internal_retry.<locals>.wrap.<locals>.wrapped_fn (from tensorflow.contrib.learn.python.learn.datasets.base) is deprecated and will be removed in a future version.\n",
      "Instructions for updating:\n",
      "Please use urllib or similar directly.\n",
      "Successfully downloaded train-images-idx3-ubyte.gz 9912422 bytes.\n",
      "WARNING:tensorflow:From /home/sravan/.local/lib/python3.6/site-packages/tensorflow/contrib/learn/python/learn/datasets/mnist.py:262: extract_images (from tensorflow.contrib.learn.python.learn.datasets.mnist) is deprecated and will be removed in a future version.\n",
      "Instructions for updating:\n",
      "Please use tf.data to implement this functionality.\n",
      "Extracting /tmp/data/train-images-idx3-ubyte.gz\n",
      "Successfully downloaded train-labels-idx1-ubyte.gz 28881 bytes.\n",
      "WARNING:tensorflow:From /home/sravan/.local/lib/python3.6/site-packages/tensorflow/contrib/learn/python/learn/datasets/mnist.py:267: extract_labels (from tensorflow.contrib.learn.python.learn.datasets.mnist) is deprecated and will be removed in a future version.\n",
      "Instructions for updating:\n",
      "Please use tf.data to implement this functionality.\n",
      "Extracting /tmp/data/train-labels-idx1-ubyte.gz\n",
      "Successfully downloaded t10k-images-idx3-ubyte.gz 1648877 bytes.\n",
      "Extracting /tmp/data/t10k-images-idx3-ubyte.gz\n",
      "Successfully downloaded t10k-labels-idx1-ubyte.gz 4542 bytes.\n",
      "Extracting /tmp/data/t10k-labels-idx1-ubyte.gz\n",
      "WARNING:tensorflow:From /home/sravan/.local/lib/python3.6/site-packages/tensorflow/contrib/learn/python/learn/datasets/mnist.py:290: DataSet.__init__ (from tensorflow.contrib.learn.python.learn.datasets.mnist) is deprecated and will be removed in a future version.\n",
      "Instructions for updating:\n",
      "Please use alternatives such as official/mnist/dataset.py from tensorflow/models.\n"
     ]
    }
   ],
   "source": [
    "from tensorflow.examples.tutorials.mnist import input_data\n",
    "mnist = input_data.read_data_sets(\"/tmp/data/\")\n",
    "X_test = mnist.test.images.reshape((-1, n_steps, n_inputs))\n",
    "y_test = mnist.test.labels"
   ]
  },
  {
   "cell_type": "markdown",
   "metadata": {},
   "source": [
    "Training the network"
   ]
  },
  {
   "cell_type": "code",
   "execution_count": 4,
   "metadata": {},
   "outputs": [
    {
     "name": "stdout",
     "output_type": "stream",
     "text": [
      "0 Train accuracy: 0.9266667 Test accuracy: 0.9076\n",
      "1 Train accuracy: 0.94 Test accuracy: 0.944\n",
      "2 Train accuracy: 0.99333334 Test accuracy: 0.9586\n",
      "3 Train accuracy: 0.98 Test accuracy: 0.9636\n",
      "4 Train accuracy: 0.94 Test accuracy: 0.9665\n",
      "5 Train accuracy: 0.97333336 Test accuracy: 0.9653\n",
      "6 Train accuracy: 0.9533333 Test accuracy: 0.9685\n",
      "7 Train accuracy: 0.97333336 Test accuracy: 0.9719\n",
      "8 Train accuracy: 0.98 Test accuracy: 0.9734\n",
      "9 Train accuracy: 0.98 Test accuracy: 0.9716\n",
      "10 Train accuracy: 0.96666664 Test accuracy: 0.9734\n",
      "11 Train accuracy: 0.99333334 Test accuracy: 0.9696\n",
      "12 Train accuracy: 0.97333336 Test accuracy: 0.9757\n",
      "13 Train accuracy: 0.99333334 Test accuracy: 0.9741\n",
      "14 Train accuracy: 0.98 Test accuracy: 0.9757\n",
      "15 Train accuracy: 0.99333334 Test accuracy: 0.9765\n",
      "16 Train accuracy: 0.99333334 Test accuracy: 0.9716\n",
      "17 Train accuracy: 0.98 Test accuracy: 0.9716\n",
      "18 Train accuracy: 0.9866667 Test accuracy: 0.9781\n",
      "19 Train accuracy: 0.99333334 Test accuracy: 0.9781\n",
      "20 Train accuracy: 0.9866667 Test accuracy: 0.9759\n",
      "21 Train accuracy: 0.96 Test accuracy: 0.9763\n",
      "22 Train accuracy: 0.98 Test accuracy: 0.9768\n",
      "23 Train accuracy: 1.0 Test accuracy: 0.9714\n",
      "24 Train accuracy: 0.98 Test accuracy: 0.9742\n",
      "25 Train accuracy: 1.0 Test accuracy: 0.9769\n",
      "26 Train accuracy: 0.98 Test accuracy: 0.9745\n",
      "27 Train accuracy: 0.99333334 Test accuracy: 0.9766\n",
      "28 Train accuracy: 0.99333334 Test accuracy: 0.9804\n",
      "29 Train accuracy: 0.9866667 Test accuracy: 0.9739\n",
      "30 Train accuracy: 0.9866667 Test accuracy: 0.9729\n",
      "31 Train accuracy: 1.0 Test accuracy: 0.9803\n",
      "32 Train accuracy: 0.9866667 Test accuracy: 0.9712\n",
      "33 Train accuracy: 0.99333334 Test accuracy: 0.9785\n",
      "34 Train accuracy: 0.99333334 Test accuracy: 0.9789\n",
      "35 Train accuracy: 0.9866667 Test accuracy: 0.974\n",
      "36 Train accuracy: 0.9866667 Test accuracy: 0.9807\n",
      "37 Train accuracy: 0.9866667 Test accuracy: 0.973\n",
      "38 Train accuracy: 1.0 Test accuracy: 0.9801\n",
      "39 Train accuracy: 0.9866667 Test accuracy: 0.9774\n",
      "40 Train accuracy: 1.0 Test accuracy: 0.9752\n",
      "41 Train accuracy: 0.99333334 Test accuracy: 0.9778\n",
      "42 Train accuracy: 0.99333334 Test accuracy: 0.9803\n",
      "43 Train accuracy: 0.9866667 Test accuracy: 0.9748\n",
      "44 Train accuracy: 0.98 Test accuracy: 0.978\n",
      "45 Train accuracy: 0.98 Test accuracy: 0.9783\n",
      "46 Train accuracy: 1.0 Test accuracy: 0.9792\n",
      "47 Train accuracy: 0.99333334 Test accuracy: 0.9794\n",
      "48 Train accuracy: 0.99333334 Test accuracy: 0.9777\n",
      "49 Train accuracy: 1.0 Test accuracy: 0.9717\n",
      "50 Train accuracy: 0.99333334 Test accuracy: 0.9762\n",
      "51 Train accuracy: 0.98 Test accuracy: 0.9737\n",
      "52 Train accuracy: 1.0 Test accuracy: 0.9781\n",
      "53 Train accuracy: 0.99333334 Test accuracy: 0.9759\n",
      "54 Train accuracy: 0.99333334 Test accuracy: 0.9747\n",
      "55 Train accuracy: 0.99333334 Test accuracy: 0.9822\n",
      "56 Train accuracy: 0.99333334 Test accuracy: 0.9745\n",
      "57 Train accuracy: 0.9866667 Test accuracy: 0.977\n",
      "58 Train accuracy: 1.0 Test accuracy: 0.9731\n",
      "59 Train accuracy: 1.0 Test accuracy: 0.9779\n",
      "60 Train accuracy: 0.99333334 Test accuracy: 0.9759\n",
      "61 Train accuracy: 1.0 Test accuracy: 0.9744\n",
      "62 Train accuracy: 0.99333334 Test accuracy: 0.974\n",
      "63 Train accuracy: 1.0 Test accuracy: 0.9704\n",
      "64 Train accuracy: 0.99333334 Test accuracy: 0.9815\n",
      "65 Train accuracy: 0.9866667 Test accuracy: 0.9769\n",
      "66 Train accuracy: 0.99333334 Test accuracy: 0.9808\n",
      "67 Train accuracy: 1.0 Test accuracy: 0.9811\n",
      "68 Train accuracy: 0.99333334 Test accuracy: 0.9767\n",
      "69 Train accuracy: 0.9866667 Test accuracy: 0.9757\n",
      "70 Train accuracy: 0.99333334 Test accuracy: 0.9826\n",
      "71 Train accuracy: 0.99333334 Test accuracy: 0.9763\n",
      "72 Train accuracy: 1.0 Test accuracy: 0.9725\n",
      "73 Train accuracy: 1.0 Test accuracy: 0.98\n",
      "74 Train accuracy: 0.99333334 Test accuracy: 0.9792\n",
      "75 Train accuracy: 0.99333334 Test accuracy: 0.9775\n",
      "76 Train accuracy: 0.9866667 Test accuracy: 0.9747\n",
      "77 Train accuracy: 1.0 Test accuracy: 0.9791\n",
      "78 Train accuracy: 0.99333334 Test accuracy: 0.9765\n",
      "79 Train accuracy: 1.0 Test accuracy: 0.9811\n",
      "80 Train accuracy: 1.0 Test accuracy: 0.98\n",
      "81 Train accuracy: 1.0 Test accuracy: 0.9795\n",
      "82 Train accuracy: 1.0 Test accuracy: 0.9793\n",
      "83 Train accuracy: 0.9866667 Test accuracy: 0.9731\n",
      "84 Train accuracy: 0.99333334 Test accuracy: 0.9782\n",
      "85 Train accuracy: 1.0 Test accuracy: 0.979\n",
      "86 Train accuracy: 0.99333334 Test accuracy: 0.9781\n",
      "87 Train accuracy: 1.0 Test accuracy: 0.9822\n",
      "88 Train accuracy: 0.99333334 Test accuracy: 0.9764\n",
      "89 Train accuracy: 0.99333334 Test accuracy: 0.9814\n",
      "90 Train accuracy: 0.9866667 Test accuracy: 0.9791\n",
      "91 Train accuracy: 0.99333334 Test accuracy: 0.9767\n",
      "92 Train accuracy: 0.99333334 Test accuracy: 0.9788\n",
      "93 Train accuracy: 1.0 Test accuracy: 0.979\n",
      "94 Train accuracy: 1.0 Test accuracy: 0.975\n",
      "95 Train accuracy: 0.9866667 Test accuracy: 0.9738\n",
      "96 Train accuracy: 1.0 Test accuracy: 0.9806\n",
      "97 Train accuracy: 0.9866667 Test accuracy: 0.9789\n",
      "98 Train accuracy: 0.9866667 Test accuracy: 0.973\n",
      "99 Train accuracy: 1.0 Test accuracy: 0.981\n"
     ]
    }
   ],
   "source": [
    "n_epochs = 100\n",
    "batch_size = 150\n",
    "with tf.Session() as sess:\n",
    "    init.run()\n",
    "    for epoch in range(n_epochs):\n",
    "        for iteration in range(mnist.train.num_examples // batch_size):\n",
    "            X_batch, y_batch = mnist.train.next_batch(batch_size)\n",
    "            X_batch = X_batch.reshape((-1, n_steps, n_inputs))\n",
    "            sess.run(training_op, feed_dict={X: X_batch, y: y_batch})\n",
    "        acc_train = accuracy.eval(feed_dict={X: X_batch, y: y_batch})\n",
    "        acc_test = accuracy.eval(feed_dict={X: X_test, y: y_test})\n",
    "        print(epoch, \"Train accuracy:\", acc_train, \"Test accuracy:\", acc_test)"
   ]
  },
  {
   "cell_type": "code",
   "execution_count": 5,
   "metadata": {},
   "outputs": [],
   "source": [
    "sess.close()"
   ]
  }
 ],
 "metadata": {
  "kernelspec": {
   "display_name": "Python 3",
   "language": "python",
   "name": "python3"
  },
  "language_info": {
   "codemirror_mode": {
    "name": "ipython",
    "version": 3
   },
   "file_extension": ".py",
   "mimetype": "text/x-python",
   "name": "python",
   "nbconvert_exporter": "python",
   "pygments_lexer": "ipython3",
   "version": "3.6.9"
  }
 },
 "nbformat": 4,
 "nbformat_minor": 2
}
